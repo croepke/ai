{
 "cells": [
  {
   "cell_type": "code",
   "execution_count": 1,
   "metadata": {
    "collapsed": true
   },
   "outputs": [],
   "source": [
    "class SimpleGraph:\n",
    "    def __init__(self):\n",
    "        self.edges = {}\n",
    "    \n",
    "    def neighbors(self, id):\n",
    "        return self.edges[id]"
   ]
  },
  {
   "cell_type": "code",
   "execution_count": 2,
   "metadata": {
    "collapsed": true
   },
   "outputs": [],
   "source": [
    "graph = SimpleGraph()"
   ]
  },
  {
   "cell_type": "code",
   "execution_count": 6,
   "metadata": {},
   "outputs": [],
   "source": [
    "graph.edges = {\n",
    "    'A': ['B'],\n",
    "    'B': ['A', 'C', 'D'],\n",
    "    'C': ['A'],\n",
    "    'D': ['E', 'A'],\n",
    "    'E': ['B']\n",
    "}"
   ]
  },
  {
   "cell_type": "code",
   "execution_count": 11,
   "metadata": {},
   "outputs": [],
   "source": [
    "import collections\n",
    "\n",
    "class Queue:\n",
    "    def __init__(self):\n",
    "        self.elements = collections.deque()\n",
    "    \n",
    "    def empty(self):\n",
    "        return len(self.elements) == 0\n",
    "    \n",
    "    def put(self, x):\n",
    "        self.elements.append(x)\n",
    "    \n",
    "    def get(self):\n",
    "        return self.elements.popleft()"
   ]
  },
  {
   "cell_type": "code",
   "execution_count": 30,
   "metadata": {},
   "outputs": [],
   "source": [
    "def breadth_first_search_1(graph, start):\n",
    "    # print out what we find\n",
    "    frontier = Queue()\n",
    "    frontier.put(start)\n",
    "    visited = {}\n",
    "    visited[start] = True\n",
    "    \n",
    "    while not frontier.empty():\n",
    "        current = frontier.get()\n",
    "        print(\"Visiting %r\" % current)\n",
    "        for next in graph.neighbors(current):\n",
    "            print(\"Neighbour: %r\" % next)\n",
    "            if next not in visited:\n",
    "                frontier.put(next)\n",
    "                visited[next] = True"
   ]
  },
  {
   "cell_type": "code",
   "execution_count": 31,
   "metadata": {},
   "outputs": [
    {
     "name": "stdout",
     "output_type": "stream",
     "text": [
      "Visiting 'A'\n",
      "Neighbour: 'B'\n",
      "Visiting 'B'\n",
      "Neighbour: 'A'\n",
      "Neighbour: 'C'\n",
      "Neighbour: 'D'\n",
      "Visiting 'C'\n",
      "Neighbour: 'A'\n",
      "Visiting 'D'\n",
      "Neighbour: 'E'\n",
      "Neighbour: 'A'\n",
      "Visiting 'E'\n",
      "Neighbour: 'B'\n"
     ]
    }
   ],
   "source": [
    "breadth_first_search_1(graph, 'A')"
   ]
  },
  {
   "cell_type": "code",
   "execution_count": 32,
   "metadata": {
    "collapsed": true
   },
   "outputs": [],
   "source": [
    "class SquareGrid:\n",
    "    def __init__(self, width, height):\n",
    "        self.width = width\n",
    "        self.height = height\n",
    "        self.walls = []\n",
    "    \n",
    "    def in_bounds(self, id):\n",
    "        (x, y) = id\n",
    "        return 0 <= x < self.width and 0 <= y < self.height\n",
    "    \n",
    "    def passable(self, id):\n",
    "        return id not in self.walls\n",
    "    \n",
    "    def neighbors(self, id):\n",
    "        (x, y) = id\n",
    "        results = [(x+1, y), (x, y-1), (x-1, y), (x, y+1)]\n",
    "        if (x + y) % 2 == 0: results.reverse() # aesthetics\n",
    "        results = filter(self.in_bounds, results)\n",
    "        results = filter(self.passable, results)\n",
    "        return results"
   ]
  },
  {
   "cell_type": "code",
   "execution_count": 34,
   "metadata": {},
   "outputs": [],
   "source": [
    "g = SquareGrid(20,20)"
   ]
  },
  {
   "cell_type": "code",
   "execution_count": 35,
   "metadata": {},
   "outputs": [
    {
     "data": {
      "text/plain": [
       "<__main__.SquareGrid instance at 0x7f53aabde758>"
      ]
     },
     "execution_count": 35,
     "metadata": {},
     "output_type": "execute_result"
    }
   ],
   "source": [
    "g"
   ]
  },
  {
   "cell_type": "code",
   "execution_count": 1,
   "metadata": {
    "collapsed": true
   },
   "outputs": [],
   "source": [
    "import numpy as np"
   ]
  },
  {
   "cell_type": "code",
   "execution_count": 80,
   "metadata": {},
   "outputs": [],
   "source": [
    "graph = np.zeros((5,5))"
   ]
  },
  {
   "cell_type": "code",
   "execution_count": 81,
   "metadata": {},
   "outputs": [
    {
     "data": {
      "text/plain": [
       "array([[ 0.,  0.,  0.,  0.,  0.],\n",
       "       [ 0.,  0.,  0.,  0.,  0.],\n",
       "       [ 0.,  0.,  0.,  0.,  0.],\n",
       "       [ 0.,  0.,  0.,  0.,  0.],\n",
       "       [ 0.,  0.,  0.,  0.,  0.]])"
      ]
     },
     "execution_count": 81,
     "metadata": {},
     "output_type": "execute_result"
    }
   ],
   "source": [
    "graph"
   ]
  },
  {
   "cell_type": "code",
   "execution_count": 82,
   "metadata": {
    "collapsed": true
   },
   "outputs": [],
   "source": [
    "walls = [(0,1),(1,1),(2,1)]"
   ]
  },
  {
   "cell_type": "code",
   "execution_count": 83,
   "metadata": {},
   "outputs": [],
   "source": [
    "for wall in walls:\n",
    "    graph[wall]=1"
   ]
  },
  {
   "cell_type": "code",
   "execution_count": 84,
   "metadata": {},
   "outputs": [
    {
     "data": {
      "text/plain": [
       "array([[ 0.,  1.,  0.,  0.,  0.],\n",
       "       [ 0.,  1.,  0.,  0.,  0.],\n",
       "       [ 0.,  1.,  0.,  0.,  0.],\n",
       "       [ 0.,  0.,  0.,  0.,  0.],\n",
       "       [ 0.,  0.,  0.,  0.,  0.]])"
      ]
     },
     "execution_count": 84,
     "metadata": {},
     "output_type": "execute_result"
    }
   ],
   "source": [
    "graph"
   ]
  },
  {
   "cell_type": "code",
   "execution_count": 14,
   "metadata": {},
   "outputs": [],
   "source": [
    "from Queue import Queue\n",
    "#def bfs(graph, start, end):\n",
    "    "
   ]
  },
  {
   "cell_type": "code",
   "execution_count": 85,
   "metadata": {
    "collapsed": true
   },
   "outputs": [],
   "source": [
    "grid_shape = (5, 5)"
   ]
  },
  {
   "cell_type": "code",
   "execution_count": 86,
   "metadata": {
    "collapsed": true
   },
   "outputs": [],
   "source": [
    "def in_bounds(node):\n",
    "    x,y = node\n",
    "    max_x = grid_shape[0]-1\n",
    "    max_y = grid_shape[1]-1\n",
    "    return (0 <= x <= max_x and 0 <= y <= max_y)"
   ]
  },
  {
   "cell_type": "code",
   "execution_count": 87,
   "metadata": {
    "collapsed": true
   },
   "outputs": [],
   "source": [
    "def no_wall(node):\n",
    "    return (graph[node]==0)"
   ]
  },
  {
   "cell_type": "code",
   "execution_count": 88,
   "metadata": {
    "collapsed": true
   },
   "outputs": [],
   "source": [
    "def get_neighbours(node):\n",
    "    x,y = node\n",
    "    ln = (x-1, y)\n",
    "    rn = (x+1, y)\n",
    "    un = (x, y+1)\n",
    "    bn = (x, y-1)\n",
    "    neighbours = [ln, rn, un, bn]\n",
    "    neighbours = filter(in_bounds, neighbours)\n",
    "    neighbours = filter(no_wall, neighbours)\n",
    "    return neighbours"
   ]
  },
  {
   "cell_type": "code",
   "execution_count": 89,
   "metadata": {},
   "outputs": [
    {
     "data": {
      "text/plain": [
       "[(1, 0), (3, 0)]"
      ]
     },
     "execution_count": 89,
     "metadata": {},
     "output_type": "execute_result"
    }
   ],
   "source": [
    "get_neighbours((2,0))"
   ]
  },
  {
   "cell_type": "code",
   "execution_count": 130,
   "metadata": {},
   "outputs": [],
   "source": [
    "def print_map(graph, visited, frontier):\n",
    "    for row in range(graph.shape[0]):\n",
    "        row_string = \"\"\n",
    "        for column in range(graph.shape[1]):\n",
    "            node = (row, column)\n",
    "            if not no_wall(node):\n",
    "                row_string += \"(*)\"\n",
    "            elif node in visited and node not in frontier:\n",
    "                row_string += \"(X)\"\n",
    "            elif node in visited and node in frontier:\n",
    "                row_string +=\"(O)\"\n",
    "            else:\n",
    "                row_string +=\"( )\"\n",
    "        print(row_string)"
   ]
  },
  {
   "cell_type": "code",
   "execution_count": 133,
   "metadata": {},
   "outputs": [
    {
     "name": "stdout",
     "output_type": "stream",
     "text": [
      "(0, 0)\n",
      "(X)(*)( )( )( )\n",
      "(O)(*)( )( )( )\n",
      "( )(*)( )( )( )\n",
      "( )( )( )( )( )\n",
      "( )( )( )( )( )\n",
      "(1, 0)\n",
      "(X)(*)( )( )( )\n",
      "(X)(*)( )( )( )\n",
      "(O)(*)( )( )( )\n",
      "( )( )( )( )( )\n",
      "( )( )( )( )( )\n",
      "(2, 0)\n",
      "(X)(*)( )( )( )\n",
      "(X)(*)( )( )( )\n",
      "(X)(*)( )( )( )\n",
      "(O)( )( )( )( )\n",
      "( )( )( )( )( )\n",
      "(3, 0)\n",
      "(X)(*)( )( )( )\n",
      "(X)(*)( )( )( )\n",
      "(X)(*)( )( )( )\n",
      "(X)(O)( )( )( )\n",
      "(O)( )( )( )( )\n",
      "(4, 0)\n",
      "(X)(*)( )( )( )\n",
      "(X)(*)( )( )( )\n",
      "(X)(*)( )( )( )\n",
      "(X)(O)( )( )( )\n",
      "(X)(O)( )( )( )\n",
      "(3, 1)\n",
      "(X)(*)( )( )( )\n",
      "(X)(*)( )( )( )\n",
      "(X)(*)( )( )( )\n",
      "(X)(X)(O)( )( )\n",
      "(X)(O)( )( )( )\n",
      "(4, 1)\n",
      "(X)(*)( )( )( )\n",
      "(X)(*)( )( )( )\n",
      "(X)(*)( )( )( )\n",
      "(X)(X)(O)( )( )\n",
      "(X)(X)(O)( )( )\n",
      "(3, 2)\n",
      "(X)(*)( )( )( )\n",
      "(X)(*)( )( )( )\n",
      "(X)(*)(O)( )( )\n",
      "(X)(X)(X)(O)( )\n",
      "(X)(X)(O)( )( )\n",
      "(4, 2)\n",
      "(X)(*)( )( )( )\n",
      "(X)(*)( )( )( )\n",
      "(X)(*)(O)( )( )\n",
      "(X)(X)(X)(O)( )\n",
      "(X)(X)(X)(O)( )\n",
      "(2, 2)\n",
      "(X)(*)( )( )( )\n",
      "(X)(*)(O)( )( )\n",
      "(X)(*)(X)(O)( )\n",
      "(X)(X)(X)(O)( )\n",
      "(X)(X)(X)(O)( )\n",
      "(3, 3)\n",
      "(X)(*)( )( )( )\n",
      "(X)(*)(O)( )( )\n",
      "(X)(*)(X)(O)( )\n",
      "(X)(X)(X)(X)(O)\n",
      "(X)(X)(X)(O)( )\n",
      "(4, 3)\n",
      "(X)(*)( )( )( )\n",
      "(X)(*)(O)( )( )\n",
      "(X)(*)(X)(O)( )\n",
      "(X)(X)(X)(X)(O)\n",
      "(X)(X)(X)(X)(O)\n",
      "(1, 2)\n",
      "(X)(*)(O)( )( )\n",
      "(X)(*)(X)(O)( )\n",
      "(X)(*)(X)(O)( )\n",
      "(X)(X)(X)(X)(O)\n",
      "(X)(X)(X)(X)(O)\n",
      "(2, 3)\n",
      "(X)(*)(O)( )( )\n",
      "(X)(*)(X)(O)( )\n",
      "(X)(*)(X)(X)(O)\n",
      "(X)(X)(X)(X)(O)\n",
      "(X)(X)(X)(X)(O)\n",
      "(3, 4)\n",
      "(X)(*)(O)( )( )\n",
      "(X)(*)(X)(O)( )\n",
      "(X)(*)(X)(X)(O)\n",
      "(X)(X)(X)(X)(X)\n",
      "(X)(X)(X)(X)(O)\n",
      "(4, 4)\n",
      "(X)(*)(O)( )( )\n",
      "(X)(*)(X)(O)( )\n",
      "(X)(*)(X)(X)(O)\n",
      "(X)(X)(X)(X)(X)\n",
      "(X)(X)(X)(X)(X)\n",
      "(0, 2)\n",
      "(X)(*)(X)( )( )\n",
      "(X)(*)(X)(O)( )\n",
      "(X)(*)(X)(X)(O)\n",
      "(X)(X)(X)(X)(X)\n",
      "(X)(X)(X)(X)(X)\n"
     ]
    }
   ],
   "source": [
    "start = (0,0)\n",
    "end = (0,2)\n",
    "frontier = Queue()\n",
    "frontier_check = set()\n",
    "visited = set()\n",
    "frontier.put(start)\n",
    "frontier_check.add(start)\n",
    "while frontier.qsize() > 0:\n",
    "    current = frontier.get()\n",
    "    frontier_check.remove(current)\n",
    "    print(current)\n",
    "    visited.add(current)\n",
    "    if current == end:\n",
    "        print_map(graph, visited, frontier_check)\n",
    "        break\n",
    "    for neighbour in get_neighbours(current):\n",
    "        if neighbour not in visited:\n",
    "            frontier.put(neighbour)\n",
    "            frontier_check.add(neighbour)\n",
    "            visited.add(neighbour)\n",
    "    print_map(graph, visited, frontier_check)"
   ]
  },
  {
   "cell_type": "code",
   "execution_count": 26,
   "metadata": {},
   "outputs": [],
   "source": [
    "start = (0,0)\n",
    "end = (10,10)\n",
    "frontier = Queue()\n",
    "visited = set()\n",
    "frontier.put(start)"
   ]
  },
  {
   "cell_type": "code",
   "execution_count": 27,
   "metadata": {},
   "outputs": [
    {
     "data": {
      "text/plain": [
       "<Queue.Queue instance at 0x7ff5500bf248>"
      ]
     },
     "execution_count": 27,
     "metadata": {},
     "output_type": "execute_result"
    }
   ],
   "source": [
    "frontier"
   ]
  },
  {
   "cell_type": "code",
   "execution_count": 24,
   "metadata": {},
   "outputs": [
    {
     "data": {
      "text/plain": [
       "(0, 0)"
      ]
     },
     "execution_count": 24,
     "metadata": {},
     "output_type": "execute_result"
    }
   ],
   "source": [
    "frontier.get()"
   ]
  },
  {
   "cell_type": "code",
   "execution_count": 28,
   "metadata": {},
   "outputs": [
    {
     "data": {
      "text/plain": [
       "1"
      ]
     },
     "execution_count": 28,
     "metadata": {},
     "output_type": "execute_result"
    }
   ],
   "source": [
    "frontier.qsize()"
   ]
  },
  {
   "cell_type": "code",
   "execution_count": null,
   "metadata": {
    "collapsed": true
   },
   "outputs": [],
   "source": []
  }
 ],
 "metadata": {
  "anaconda-cloud": {},
  "kernelspec": {
   "display_name": "Python [conda env:py27]",
   "language": "python",
   "name": "conda-env-py27-py"
  },
  "language_info": {
   "codemirror_mode": {
    "name": "ipython",
    "version": 2
   },
   "file_extension": ".py",
   "mimetype": "text/x-python",
   "name": "python",
   "nbconvert_exporter": "python",
   "pygments_lexer": "ipython2",
   "version": "2.7.13"
  }
 },
 "nbformat": 4,
 "nbformat_minor": 2
}
